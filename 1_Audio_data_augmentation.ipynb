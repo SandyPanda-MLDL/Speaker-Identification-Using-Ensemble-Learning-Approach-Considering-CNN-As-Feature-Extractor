{
  "nbformat": 4,
  "nbformat_minor": 0,
  "metadata": {
    "colab": {
      "name": "1.Audio data_augmentation.ipynb",
      "provenance": []
    },
    "kernelspec": {
      "name": "python3",
      "display_name": "Python 3"
    },
    "language_info": {
      "name": "python"
    }
  },
  "cells": [
    {
      "cell_type": "code",
      "source": [
        "from google.colab import drive\n",
        "drive.mount('/content/drive')"
      ],
      "metadata": {
        "colab": {
          "base_uri": "https://localhost:8080/"
        },
        "id": "a8Bn7R6NEia3",
        "outputId": "a7ac2002-ef6f-489e-93f1-38334afe6814"
      },
      "execution_count": null,
      "outputs": [
        {
          "output_type": "stream",
          "name": "stdout",
          "text": [
            "Drive already mounted at /content/drive; to attempt to forcibly remount, call drive.mount(\"/content/drive\", force_remount=True).\n"
          ]
        }
      ]
    },
    {
      "cell_type": "code",
      "execution_count": null,
      "metadata": {
        "id": "stkVqVCyDGT4"
      },
      "outputs": [],
      "source": [
        "import random\n",
        "import librosa\n",
        "import numpy as np\n",
        "import soundfile as sf\n",
        "import matplotlib.pyplot as plt\n",
        "import librosa.display\n",
        "import os\n",
        "#from helper import _plot_signal_and_augmented_signal"
      ]
    },
    {
      "cell_type": "code",
      "source": [
        "def time_stretch(signal, time_stretch_rate):\n",
        "    \"\"\"Time stretching implemented with librosa:\n",
        "    https://librosa.org/doc/main/generated/librosa.effects.pitch_shift.html?highlight=pitch%20shift#librosa.effects.pitch_shift\n",
        "    \"\"\"\n",
        "    return librosa.effects.time_stretch(signal, time_stretch_rate)"
      ],
      "metadata": {
        "id": "9QV4hzxpr7dt"
      },
      "execution_count": null,
      "outputs": []
    },
    {
      "cell_type": "code",
      "source": [
        "def pitch_scale(signal, sr, num_semitones):\n",
        "    \"\"\"Pitch scaling implemented with librosa:\n",
        "    https://librosa.org/doc/main/generated/librosa.effects.pitch_shift.html?highlight=pitch%20shift#librosa.effects.pitch_shift\n",
        "    \"\"\"\n",
        "    return librosa.effects.pitch_shift(signal, sr, num_semitones)"
      ],
      "metadata": {
        "id": "-HS8Bji8r9D1"
      },
      "execution_count": null,
      "outputs": []
    },
    {
      "cell_type": "code",
      "source": [
        "def random_gain(signal, min_factor, max_factor):\n",
        "    gain_rate = random.uniform(min_factor, max_factor)\n",
        "    augmented_signal = signal * gain_rate\n",
        "    return augmented_signal"
      ],
      "metadata": {
        "id": "jCHir-H6sBSt"
      },
      "execution_count": null,
      "outputs": []
    },
    {
      "cell_type": "code",
      "source": [
        "def invert_polarity(signal):\n",
        "    return signal * -1"
      ],
      "metadata": {
        "id": "uyKQP0B8sIVw"
      },
      "execution_count": null,
      "outputs": []
    },
    {
      "cell_type": "code",
      "source": [
        "PATH=\"/content/drive/MyDrive/Dataset/vcc2020_training/TFF1\""
      ],
      "metadata": {
        "id": "OnlxycvdszK-"
      },
      "execution_count": null,
      "outputs": []
    },
    {
      "cell_type": "code",
      "source": [
        "count=0\n",
        "\n",
        "if __name__ == \"__main__\":\n",
        "  for i in os.listdir(PATH):\n",
        "    name=os.path.join(PATH, i)\n",
        "    Y, Sr=librosa.load(name)\n",
        "    augmented_signal_1 = pitch_scale(Y, Sr, 2)\n",
        "    #augmented_signal_2 = time_stretch(Y, Sr)\n",
        "    augmented_signal_3 = random_gain(Y, 2, 4)\n",
        "    augmented_signal_4 = invert_polarity(Y)\n",
        "    count += 1\n",
        "    sf.write('/content/drive/MyDrive/Dataset/aug_out/TFF1/augmented1_'+str(count)+'.wav', augmented_signal_1, Sr)\n",
        "    #sf.write('/content/drive/MyDrive/Dataset/aug_out/augmented2_'+str(count)+'.wav', augmented_signal_2, Sr)\n",
        "    sf.write('/content/drive/MyDrive/Dataset/aug_out/TFF1/augmented3_'+str(count)+'.wav', augmented_signal_3, Sr)\n",
        "    sf.write('/content/drive/MyDrive/Dataset/aug_out/TFF1/augmented4_'+str(count)+'.wav', augmented_signal_4, Sr)"
      ],
      "metadata": {
        "id": "BY7WX73us7HN"
      },
      "execution_count": null,
      "outputs": []
    }
  ]
}