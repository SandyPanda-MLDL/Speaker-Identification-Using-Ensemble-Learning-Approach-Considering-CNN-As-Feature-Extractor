{
  "cells": [
    {
      "cell_type": "code",
      "execution_count": 1,
      "metadata": {
        "colab": {
          "base_uri": "https://localhost:8080/"
        },
        "id": "kwklGmPoHSg9",
        "outputId": "9aa1a7c2-30ed-4dfc-b3c1-4b1bbf98b2c6"
      },
      "outputs": [
        {
          "output_type": "stream",
          "name": "stdout",
          "text": [
            "Requirement already satisfied: tensorflow in /usr/local/lib/python3.7/dist-packages (2.8.0+zzzcolab20220506162203)\n",
            "Requirement already satisfied: opt-einsum>=2.3.2 in /usr/local/lib/python3.7/dist-packages (from tensorflow) (3.3.0)\n",
            "Requirement already satisfied: grpcio<2.0,>=1.24.3 in /usr/local/lib/python3.7/dist-packages (from tensorflow) (1.46.1)\n",
            "Requirement already satisfied: gast>=0.2.1 in /usr/local/lib/python3.7/dist-packages (from tensorflow) (0.5.3)\n",
            "Requirement already satisfied: libclang>=9.0.1 in /usr/local/lib/python3.7/dist-packages (from tensorflow) (14.0.1)\n",
            "Requirement already satisfied: tensorflow-io-gcs-filesystem>=0.23.1 in /usr/local/lib/python3.7/dist-packages (from tensorflow) (0.25.0)\n",
            "Requirement already satisfied: setuptools in /usr/local/lib/python3.7/dist-packages (from tensorflow) (57.4.0)\n",
            "Collecting tf-estimator-nightly==2.8.0.dev2021122109\n",
            "  Downloading tf_estimator_nightly-2.8.0.dev2021122109-py2.py3-none-any.whl (462 kB)\n",
            "\u001b[K     |████████████████████████████████| 462 kB 7.8 MB/s \n",
            "\u001b[?25hRequirement already satisfied: termcolor>=1.1.0 in /usr/local/lib/python3.7/dist-packages (from tensorflow) (1.1.0)\n",
            "Requirement already satisfied: flatbuffers>=1.12 in /usr/local/lib/python3.7/dist-packages (from tensorflow) (2.0)\n",
            "Requirement already satisfied: typing-extensions>=3.6.6 in /usr/local/lib/python3.7/dist-packages (from tensorflow) (4.2.0)\n",
            "Requirement already satisfied: keras<2.9,>=2.8.0rc0 in /usr/local/lib/python3.7/dist-packages (from tensorflow) (2.8.0)\n",
            "Requirement already satisfied: wrapt>=1.11.0 in /usr/local/lib/python3.7/dist-packages (from tensorflow) (1.14.1)\n",
            "Requirement already satisfied: keras-preprocessing>=1.1.1 in /usr/local/lib/python3.7/dist-packages (from tensorflow) (1.1.2)\n",
            "Requirement already satisfied: absl-py>=0.4.0 in /usr/local/lib/python3.7/dist-packages (from tensorflow) (1.0.0)\n",
            "Requirement already satisfied: protobuf>=3.9.2 in /usr/local/lib/python3.7/dist-packages (from tensorflow) (3.17.3)\n",
            "Requirement already satisfied: h5py>=2.9.0 in /usr/local/lib/python3.7/dist-packages (from tensorflow) (3.1.0)\n",
            "Requirement already satisfied: google-pasta>=0.1.1 in /usr/local/lib/python3.7/dist-packages (from tensorflow) (0.2.0)\n",
            "Requirement already satisfied: tensorboard<2.9,>=2.8 in /usr/local/lib/python3.7/dist-packages (from tensorflow) (2.8.0)\n",
            "Requirement already satisfied: six>=1.12.0 in /usr/local/lib/python3.7/dist-packages (from tensorflow) (1.15.0)\n",
            "Requirement already satisfied: numpy>=1.20 in /usr/local/lib/python3.7/dist-packages (from tensorflow) (1.21.6)\n",
            "Requirement already satisfied: astunparse>=1.6.0 in /usr/local/lib/python3.7/dist-packages (from tensorflow) (1.6.3)\n",
            "Requirement already satisfied: wheel<1.0,>=0.23.0 in /usr/local/lib/python3.7/dist-packages (from astunparse>=1.6.0->tensorflow) (0.37.1)\n",
            "Requirement already satisfied: cached-property in /usr/local/lib/python3.7/dist-packages (from h5py>=2.9.0->tensorflow) (1.5.2)\n",
            "Requirement already satisfied: google-auth<3,>=1.6.3 in /usr/local/lib/python3.7/dist-packages (from tensorboard<2.9,>=2.8->tensorflow) (1.35.0)\n",
            "Requirement already satisfied: requests<3,>=2.21.0 in /usr/local/lib/python3.7/dist-packages (from tensorboard<2.9,>=2.8->tensorflow) (2.23.0)\n",
            "Requirement already satisfied: tensorboard-data-server<0.7.0,>=0.6.0 in /usr/local/lib/python3.7/dist-packages (from tensorboard<2.9,>=2.8->tensorflow) (0.6.1)\n",
            "Requirement already satisfied: tensorboard-plugin-wit>=1.6.0 in /usr/local/lib/python3.7/dist-packages (from tensorboard<2.9,>=2.8->tensorflow) (1.8.1)\n",
            "Requirement already satisfied: werkzeug>=0.11.15 in /usr/local/lib/python3.7/dist-packages (from tensorboard<2.9,>=2.8->tensorflow) (1.0.1)\n",
            "Requirement already satisfied: markdown>=2.6.8 in /usr/local/lib/python3.7/dist-packages (from tensorboard<2.9,>=2.8->tensorflow) (3.3.7)\n",
            "Requirement already satisfied: google-auth-oauthlib<0.5,>=0.4.1 in /usr/local/lib/python3.7/dist-packages (from tensorboard<2.9,>=2.8->tensorflow) (0.4.6)\n",
            "Requirement already satisfied: rsa<5,>=3.1.4 in /usr/local/lib/python3.7/dist-packages (from google-auth<3,>=1.6.3->tensorboard<2.9,>=2.8->tensorflow) (4.8)\n",
            "Requirement already satisfied: cachetools<5.0,>=2.0.0 in /usr/local/lib/python3.7/dist-packages (from google-auth<3,>=1.6.3->tensorboard<2.9,>=2.8->tensorflow) (4.2.4)\n",
            "Requirement already satisfied: pyasn1-modules>=0.2.1 in /usr/local/lib/python3.7/dist-packages (from google-auth<3,>=1.6.3->tensorboard<2.9,>=2.8->tensorflow) (0.2.8)\n",
            "Requirement already satisfied: requests-oauthlib>=0.7.0 in /usr/local/lib/python3.7/dist-packages (from google-auth-oauthlib<0.5,>=0.4.1->tensorboard<2.9,>=2.8->tensorflow) (1.3.1)\n",
            "Requirement already satisfied: importlib-metadata>=4.4 in /usr/local/lib/python3.7/dist-packages (from markdown>=2.6.8->tensorboard<2.9,>=2.8->tensorflow) (4.11.3)\n",
            "Requirement already satisfied: zipp>=0.5 in /usr/local/lib/python3.7/dist-packages (from importlib-metadata>=4.4->markdown>=2.6.8->tensorboard<2.9,>=2.8->tensorflow) (3.8.0)\n",
            "Requirement already satisfied: pyasn1<0.5.0,>=0.4.6 in /usr/local/lib/python3.7/dist-packages (from pyasn1-modules>=0.2.1->google-auth<3,>=1.6.3->tensorboard<2.9,>=2.8->tensorflow) (0.4.8)\n",
            "Requirement already satisfied: urllib3!=1.25.0,!=1.25.1,<1.26,>=1.21.1 in /usr/local/lib/python3.7/dist-packages (from requests<3,>=2.21.0->tensorboard<2.9,>=2.8->tensorflow) (1.24.3)\n",
            "Requirement already satisfied: certifi>=2017.4.17 in /usr/local/lib/python3.7/dist-packages (from requests<3,>=2.21.0->tensorboard<2.9,>=2.8->tensorflow) (2021.10.8)\n",
            "Requirement already satisfied: idna<3,>=2.5 in /usr/local/lib/python3.7/dist-packages (from requests<3,>=2.21.0->tensorboard<2.9,>=2.8->tensorflow) (2.10)\n",
            "Requirement already satisfied: chardet<4,>=3.0.2 in /usr/local/lib/python3.7/dist-packages (from requests<3,>=2.21.0->tensorboard<2.9,>=2.8->tensorflow) (3.0.4)\n",
            "Requirement already satisfied: oauthlib>=3.0.0 in /usr/local/lib/python3.7/dist-packages (from requests-oauthlib>=0.7.0->google-auth-oauthlib<0.5,>=0.4.1->tensorboard<2.9,>=2.8->tensorflow) (3.2.0)\n",
            "Installing collected packages: tf-estimator-nightly\n",
            "Successfully installed tf-estimator-nightly-2.8.0.dev2021122109\n"
          ]
        }
      ],
      "source": [
        "!pip3 install tensorflow"
      ]
    },
    {
      "cell_type": "code",
      "execution_count": 2,
      "metadata": {
        "id": "GSmYxpH7wyoH"
      },
      "outputs": [],
      "source": [
        "import numpy as np \n",
        "import matplotlib.pyplot as plt\n",
        "import glob\n",
        "import cv2\n",
        "from keras.models import Model, Sequential\n",
        "from keras.layers import Dense, Flatten, Conv2D, MaxPooling2D\n",
        "from tensorflow.keras.layers import BatchNormalization\n",
        "import os\n",
        "import seaborn as sns\n",
        "from keras.applications.vgg16 import VGG16"
      ]
    },
    {
      "cell_type": "code",
      "execution_count": 3,
      "metadata": {
        "colab": {
          "base_uri": "https://localhost:8080/"
        },
        "id": "a8Bn7R6NEia3",
        "outputId": "df84f048-2a6c-49ee-d737-57b1e5394c39"
      },
      "outputs": [
        {
          "output_type": "stream",
          "name": "stdout",
          "text": [
            "Mounted at /content/drive\n"
          ]
        }
      ],
      "source": [
        "from google.colab import drive\n",
        "drive.mount('/content/drive')"
      ]
    },
    {
      "cell_type": "code",
      "execution_count": 4,
      "metadata": {
        "colab": {
          "base_uri": "https://localhost:8080/"
        },
        "id": "FD2CU6cDy6lV",
        "outputId": "719c809c-7cae-4dc2-b572-494986b2c8ba"
      },
      "outputs": [
        {
          "output_type": "stream",
          "name": "stdout",
          "text": [
            "/content/drive/MyDrive/Speech-Data/mel_spectrogram_from_emotional_dataset/EMH_mel_spectrogram\n",
            "/content/drive/MyDrive/Speech-Data/mel_spectrogram_from_emotional_dataset/EFS_mel_spectrogram\n",
            "/content/drive/MyDrive/Speech-Data/mel_spectrogram_from_emotional_dataset/CMA_mel_spectrogram\n",
            "/content/drive/MyDrive/Speech-Data/mel_spectrogram_from_emotional_dataset/CFS_mel_spectrogram\n"
          ]
        }
      ],
      "source": [
        "###########________________OLD_CODE______________________######################################\n",
        "\n",
        "import sklearn\n",
        "from sklearn.model_selection import train_test_split\n",
        "\n",
        "#Capture training data and labels into respective lists\n",
        "images = []\n",
        "labels = []\n",
        "\n",
        "for directory_path in glob.glob(\"/content/drive/MyDrive/Speech-Data/mel_spectrogram_from_emotional_dataset/*\"):\n",
        "    label = directory_path.split(\"\\\\\")[-1]\n",
        "    print(label)\n",
        "    for img_path in glob.glob(os.path.join(directory_path, \"*.png\")):\n",
        "        \n",
        "        img = cv2.imread(img_path, cv2.IMREAD_COLOR)       \n",
        "        img = cv2.resize(img, (256, 256))\n",
        "        img = cv2.cvtColor(img, cv2.COLOR_RGB2BGR)\n",
        "        images.append(img)\n",
        "        labels.append(label)\n",
        "        \n",
        "X_train, X_test, Y_train, Y_test = train_test_split(images, labels, train_size = 0.7, random_state = 1, shuffle = True)"
      ]
    },
    {
      "cell_type": "code",
      "source": [
        "###########________________MODIFIED_CODE______________________######################################\n",
        "import os\n",
        "import sklearn\n",
        "from sklearn.model_selection import train_test_split\n",
        "\n",
        "#Capture training data and labels into respective lists\n",
        "images = []\n",
        "labels = []\n",
        "\n",
        "for directory_path in glob.glob(\"/content/drive/MyDrive/Speech-Data/mel_spectrogram_from_emotional_dataset/*\"):\n",
        "    data_split=os.path.split(directory_path)\n",
        "    #label = directory_path.split(\"\\\\\")[-1]\n",
        "    label=data_split[-1]\n",
        "    print(label)\n",
        "    for img_path in glob.glob(os.path.join(directory_path, \"*.png\")):\n",
        "        \n",
        "        img = cv2.imread(img_path, cv2.IMREAD_COLOR)       \n",
        "        img = cv2.resize(img, (256, 256))\n",
        "        img = cv2.cvtColor(img, cv2.COLOR_RGB2BGR)\n",
        "        images.append(img)\n",
        "        labels.append(label)\n",
        "        \n",
        "X_train, X_test, Y_train, Y_test = train_test_split(images, labels, train_size = 0.7, random_state = 1, shuffle = True)"
      ],
      "metadata": {
        "colab": {
          "base_uri": "https://localhost:8080/"
        },
        "id": "pGX4zXDn56Ju",
        "outputId": "c969878c-0d40-4431-cc0f-66d721f351bb"
      },
      "execution_count": 5,
      "outputs": [
        {
          "output_type": "stream",
          "name": "stdout",
          "text": [
            "EMH_mel_spectrogram\n",
            "EFS_mel_spectrogram\n",
            "CMA_mel_spectrogram\n",
            "CFS_mel_spectrogram\n"
          ]
        }
      ]
    },
    {
      "cell_type": "code",
      "execution_count": 6,
      "metadata": {
        "id": "ZFU4d_vxy-m2"
      },
      "outputs": [],
      "source": [
        "#Convert lists to arrays        \n",
        "train_images = np.array(X_train)\n",
        "train_labels = np.array(Y_train)"
      ]
    },
    {
      "cell_type": "code",
      "execution_count": 7,
      "metadata": {
        "id": "nw2gelW4zHBv"
      },
      "outputs": [],
      "source": [
        "#Convert lists to arrays                \n",
        "test_images = np.array(X_test)\n",
        "test_labels = np.array(Y_test)\n"
      ]
    },
    {
      "cell_type": "code",
      "source": [
        "test_labels"
      ],
      "metadata": {
        "colab": {
          "base_uri": "https://localhost:8080/"
        },
        "id": "p2DIwWpa1HcJ",
        "outputId": "41d12a24-1713-4c7c-ecbd-4f04dc25d451"
      },
      "execution_count": 8,
      "outputs": [
        {
          "output_type": "execute_result",
          "data": {
            "text/plain": [
              "array(['CMA_mel_spectrogram', 'CMA_mel_spectrogram',\n",
              "       'CFS_mel_spectrogram', 'CFS_mel_spectrogram',\n",
              "       'EFS_mel_spectrogram', 'EMH_mel_spectrogram',\n",
              "       'CMA_mel_spectrogram', 'CFS_mel_spectrogram',\n",
              "       'EMH_mel_spectrogram', 'EFS_mel_spectrogram',\n",
              "       'CMA_mel_spectrogram', 'CMA_mel_spectrogram',\n",
              "       'EMH_mel_spectrogram', 'CFS_mel_spectrogram',\n",
              "       'EFS_mel_spectrogram', 'EFS_mel_spectrogram',\n",
              "       'EMH_mel_spectrogram', 'CFS_mel_spectrogram',\n",
              "       'CFS_mel_spectrogram', 'CFS_mel_spectrogram',\n",
              "       'EMH_mel_spectrogram', 'CFS_mel_spectrogram',\n",
              "       'EFS_mel_spectrogram', 'CMA_mel_spectrogram',\n",
              "       'EFS_mel_spectrogram', 'CFS_mel_spectrogram',\n",
              "       'CMA_mel_spectrogram', 'EMH_mel_spectrogram',\n",
              "       'EFS_mel_spectrogram', 'EFS_mel_spectrogram',\n",
              "       'CMA_mel_spectrogram', 'CMA_mel_spectrogram',\n",
              "       'EMH_mel_spectrogram', 'EFS_mel_spectrogram',\n",
              "       'EMH_mel_spectrogram', 'EFS_mel_spectrogram',\n",
              "       'EMH_mel_spectrogram', 'CFS_mel_spectrogram',\n",
              "       'CFS_mel_spectrogram', 'CMA_mel_spectrogram',\n",
              "       'CMA_mel_spectrogram', 'EFS_mel_spectrogram',\n",
              "       'CMA_mel_spectrogram', 'EMH_mel_spectrogram',\n",
              "       'EMH_mel_spectrogram', 'CMA_mel_spectrogram',\n",
              "       'EFS_mel_spectrogram', 'CFS_mel_spectrogram',\n",
              "       'EMH_mel_spectrogram', 'CMA_mel_spectrogram',\n",
              "       'CMA_mel_spectrogram', 'EFS_mel_spectrogram',\n",
              "       'EMH_mel_spectrogram', 'CFS_mel_spectrogram',\n",
              "       'CFS_mel_spectrogram', 'CFS_mel_spectrogram',\n",
              "       'CFS_mel_spectrogram', 'EMH_mel_spectrogram',\n",
              "       'EMH_mel_spectrogram', 'CMA_mel_spectrogram',\n",
              "       'CFS_mel_spectrogram', 'CFS_mel_spectrogram',\n",
              "       'EMH_mel_spectrogram', 'EFS_mel_spectrogram',\n",
              "       'EFS_mel_spectrogram', 'CFS_mel_spectrogram',\n",
              "       'EMH_mel_spectrogram', 'CMA_mel_spectrogram',\n",
              "       'CFS_mel_spectrogram', 'CMA_mel_spectrogram',\n",
              "       'CMA_mel_spectrogram', 'CFS_mel_spectrogram',\n",
              "       'EMH_mel_spectrogram', 'EFS_mel_spectrogram',\n",
              "       'CFS_mel_spectrogram', 'EMH_mel_spectrogram',\n",
              "       'CMA_mel_spectrogram', 'EMH_mel_spectrogram',\n",
              "       'CFS_mel_spectrogram', 'CMA_mel_spectrogram',\n",
              "       'EFS_mel_spectrogram', 'EFS_mel_spectrogram',\n",
              "       'CFS_mel_spectrogram', 'CFS_mel_spectrogram',\n",
              "       'CFS_mel_spectrogram', 'CFS_mel_spectrogram',\n",
              "       'EMH_mel_spectrogram', 'EFS_mel_spectrogram',\n",
              "       'EFS_mel_spectrogram', 'EFS_mel_spectrogram',\n",
              "       'CFS_mel_spectrogram', 'EFS_mel_spectrogram',\n",
              "       'CFS_mel_spectrogram', 'EFS_mel_spectrogram',\n",
              "       'EMH_mel_spectrogram', 'CMA_mel_spectrogram',\n",
              "       'EMH_mel_spectrogram', 'EFS_mel_spectrogram',\n",
              "       'CMA_mel_spectrogram', 'CFS_mel_spectrogram',\n",
              "       'CFS_mel_spectrogram', 'CMA_mel_spectrogram',\n",
              "       'EFS_mel_spectrogram', 'CFS_mel_spectrogram',\n",
              "       'EMH_mel_spectrogram', 'CMA_mel_spectrogram',\n",
              "       'EFS_mel_spectrogram', 'EFS_mel_spectrogram',\n",
              "       'CMA_mel_spectrogram', 'EFS_mel_spectrogram',\n",
              "       'EMH_mel_spectrogram', 'EMH_mel_spectrogram',\n",
              "       'CMA_mel_spectrogram', 'CFS_mel_spectrogram',\n",
              "       'EMH_mel_spectrogram', 'EMH_mel_spectrogram',\n",
              "       'EFS_mel_spectrogram', 'EFS_mel_spectrogram',\n",
              "       'EMH_mel_spectrogram', 'EFS_mel_spectrogram',\n",
              "       'EMH_mel_spectrogram', 'CFS_mel_spectrogram',\n",
              "       'CMA_mel_spectrogram', 'CFS_mel_spectrogram',\n",
              "       'EMH_mel_spectrogram', 'EMH_mel_spectrogram',\n",
              "       'EMH_mel_spectrogram', 'EMH_mel_spectrogram',\n",
              "       'CMA_mel_spectrogram', 'CMA_mel_spectrogram',\n",
              "       'CFS_mel_spectrogram', 'CMA_mel_spectrogram',\n",
              "       'CMA_mel_spectrogram', 'CMA_mel_spectrogram',\n",
              "       'CMA_mel_spectrogram', 'CFS_mel_spectrogram',\n",
              "       'EMH_mel_spectrogram', 'CMA_mel_spectrogram',\n",
              "       'EMH_mel_spectrogram', 'EFS_mel_spectrogram',\n",
              "       'EFS_mel_spectrogram', 'EMH_mel_spectrogram',\n",
              "       'EFS_mel_spectrogram', 'CMA_mel_spectrogram',\n",
              "       'EMH_mel_spectrogram', 'CFS_mel_spectrogram',\n",
              "       'EFS_mel_spectrogram', 'EMH_mel_spectrogram',\n",
              "       'CMA_mel_spectrogram', 'CMA_mel_spectrogram',\n",
              "       'CFS_mel_spectrogram', 'EMH_mel_spectrogram',\n",
              "       'CFS_mel_spectrogram', 'EMH_mel_spectrogram',\n",
              "       'EFS_mel_spectrogram', 'CMA_mel_spectrogram',\n",
              "       'CMA_mel_spectrogram', 'EFS_mel_spectrogram',\n",
              "       'EMH_mel_spectrogram', 'CFS_mel_spectrogram',\n",
              "       'CFS_mel_spectrogram', 'EMH_mel_spectrogram',\n",
              "       'CMA_mel_spectrogram', 'EMH_mel_spectrogram',\n",
              "       'CFS_mel_spectrogram', 'EMH_mel_spectrogram',\n",
              "       'CMA_mel_spectrogram', 'EMH_mel_spectrogram',\n",
              "       'CFS_mel_spectrogram', 'EFS_mel_spectrogram',\n",
              "       'EMH_mel_spectrogram', 'EMH_mel_spectrogram',\n",
              "       'EFS_mel_spectrogram', 'CFS_mel_spectrogram',\n",
              "       'EFS_mel_spectrogram', 'CFS_mel_spectrogram',\n",
              "       'CFS_mel_spectrogram', 'CFS_mel_spectrogram',\n",
              "       'EFS_mel_spectrogram', 'CMA_mel_spectrogram'], dtype='<U19')"
            ]
          },
          "metadata": {},
          "execution_count": 8
        }
      ]
    },
    {
      "cell_type": "code",
      "execution_count": 9,
      "metadata": {
        "id": "7texkKPvzLKY"
      },
      "outputs": [],
      "source": [
        "#Encode labels from text to integers.\n",
        "from sklearn import preprocessing\n",
        "le = preprocessing.LabelEncoder()\n",
        "le.fit(test_labels)\n",
        "test_labels_encoded = le.transform(test_labels)\n",
        "le.fit(train_labels)\n",
        "train_labels_encoded = le.transform(train_labels)"
      ]
    },
    {
      "cell_type": "code",
      "execution_count": 10,
      "metadata": {
        "colab": {
          "base_uri": "https://localhost:8080/"
        },
        "id": "K4NLeAX5bbJs",
        "outputId": "937e4c4c-f5da-4e80-abda-bfabd152b62e"
      },
      "outputs": [
        {
          "output_type": "execute_result",
          "data": {
            "text/plain": [
              "array(['CMA_mel_spectrogram', 'CMA_mel_spectrogram',\n",
              "       'CFS_mel_spectrogram', 'CFS_mel_spectrogram',\n",
              "       'EFS_mel_spectrogram', 'EMH_mel_spectrogram',\n",
              "       'CMA_mel_spectrogram', 'CFS_mel_spectrogram'], dtype='<U19')"
            ]
          },
          "metadata": {},
          "execution_count": 10
        }
      ],
      "source": [
        "test_labels[0:8]"
      ]
    },
    {
      "cell_type": "code",
      "source": [
        "test_labels_encoded[0:8]"
      ],
      "metadata": {
        "colab": {
          "base_uri": "https://localhost:8080/"
        },
        "id": "nOcTnMY34NlZ",
        "outputId": "25104884-5269-4402-cec7-dd1baeb1a937"
      },
      "execution_count": 11,
      "outputs": [
        {
          "output_type": "execute_result",
          "data": {
            "text/plain": [
              "array([1, 1, 0, 0, 2, 3, 1, 0])"
            ]
          },
          "metadata": {},
          "execution_count": 11
        }
      ]
    },
    {
      "cell_type": "code",
      "source": [
        " "
      ],
      "metadata": {
        "id": "sMZHw53H02kU"
      },
      "execution_count": null,
      "outputs": []
    },
    {
      "cell_type": "code",
      "execution_count": 12,
      "metadata": {
        "id": "--JnL0kWzOZ2"
      },
      "outputs": [],
      "source": [
        "#Split data into test and train datasets (already split but assigning to meaningful convention)\n",
        "x_train, y_train, x_test, y_test = train_images, train_labels_encoded, test_images, test_labels_encoded\n"
      ]
    },
    {
      "cell_type": "code",
      "execution_count": 13,
      "metadata": {
        "id": "1SbbHGDxzRxS"
      },
      "outputs": [],
      "source": [
        "# Normalize pixel values to between 0 and 1\n",
        "x_train, x_test = x_train / 255.0, x_test / 255.0"
      ]
    },
    {
      "cell_type": "code",
      "execution_count": 14,
      "metadata": {
        "colab": {
          "base_uri": "https://localhost:8080/"
        },
        "id": "wMpNeyPyFQ_b",
        "outputId": "51fcac73-979f-47db-929c-0facc2b87a8c"
      },
      "outputs": [
        {
          "output_type": "stream",
          "name": "stdout",
          "text": [
            "Requirement already satisfied: tensorflow in /usr/local/lib/python3.7/dist-packages (2.8.0+zzzcolab20220506162203)\n",
            "Requirement already satisfied: termcolor>=1.1.0 in /usr/local/lib/python3.7/dist-packages (from tensorflow) (1.1.0)\n",
            "Requirement already satisfied: opt-einsum>=2.3.2 in /usr/local/lib/python3.7/dist-packages (from tensorflow) (3.3.0)\n",
            "Requirement already satisfied: setuptools in /usr/local/lib/python3.7/dist-packages (from tensorflow) (57.4.0)\n",
            "Requirement already satisfied: keras-preprocessing>=1.1.1 in /usr/local/lib/python3.7/dist-packages (from tensorflow) (1.1.2)\n",
            "Requirement already satisfied: keras<2.9,>=2.8.0rc0 in /usr/local/lib/python3.7/dist-packages (from tensorflow) (2.8.0)\n",
            "Requirement already satisfied: tensorboard<2.9,>=2.8 in /usr/local/lib/python3.7/dist-packages (from tensorflow) (2.8.0)\n",
            "Requirement already satisfied: tensorflow-io-gcs-filesystem>=0.23.1 in /usr/local/lib/python3.7/dist-packages (from tensorflow) (0.25.0)\n",
            "Requirement already satisfied: flatbuffers>=1.12 in /usr/local/lib/python3.7/dist-packages (from tensorflow) (2.0)\n",
            "Requirement already satisfied: tf-estimator-nightly==2.8.0.dev2021122109 in /usr/local/lib/python3.7/dist-packages (from tensorflow) (2.8.0.dev2021122109)\n",
            "Requirement already satisfied: numpy>=1.20 in /usr/local/lib/python3.7/dist-packages (from tensorflow) (1.21.6)\n",
            "Requirement already satisfied: six>=1.12.0 in /usr/local/lib/python3.7/dist-packages (from tensorflow) (1.15.0)\n",
            "Requirement already satisfied: protobuf>=3.9.2 in /usr/local/lib/python3.7/dist-packages (from tensorflow) (3.17.3)\n",
            "Requirement already satisfied: astunparse>=1.6.0 in /usr/local/lib/python3.7/dist-packages (from tensorflow) (1.6.3)\n",
            "Requirement already satisfied: gast>=0.2.1 in /usr/local/lib/python3.7/dist-packages (from tensorflow) (0.5.3)\n",
            "Requirement already satisfied: wrapt>=1.11.0 in /usr/local/lib/python3.7/dist-packages (from tensorflow) (1.14.1)\n",
            "Requirement already satisfied: grpcio<2.0,>=1.24.3 in /usr/local/lib/python3.7/dist-packages (from tensorflow) (1.46.1)\n",
            "Requirement already satisfied: h5py>=2.9.0 in /usr/local/lib/python3.7/dist-packages (from tensorflow) (3.1.0)\n",
            "Requirement already satisfied: absl-py>=0.4.0 in /usr/local/lib/python3.7/dist-packages (from tensorflow) (1.0.0)\n",
            "Requirement already satisfied: google-pasta>=0.1.1 in /usr/local/lib/python3.7/dist-packages (from tensorflow) (0.2.0)\n",
            "Requirement already satisfied: typing-extensions>=3.6.6 in /usr/local/lib/python3.7/dist-packages (from tensorflow) (4.2.0)\n",
            "Requirement already satisfied: libclang>=9.0.1 in /usr/local/lib/python3.7/dist-packages (from tensorflow) (14.0.1)\n",
            "Requirement already satisfied: wheel<1.0,>=0.23.0 in /usr/local/lib/python3.7/dist-packages (from astunparse>=1.6.0->tensorflow) (0.37.1)\n",
            "Requirement already satisfied: cached-property in /usr/local/lib/python3.7/dist-packages (from h5py>=2.9.0->tensorflow) (1.5.2)\n",
            "Requirement already satisfied: tensorboard-data-server<0.7.0,>=0.6.0 in /usr/local/lib/python3.7/dist-packages (from tensorboard<2.9,>=2.8->tensorflow) (0.6.1)\n",
            "Requirement already satisfied: google-auth-oauthlib<0.5,>=0.4.1 in /usr/local/lib/python3.7/dist-packages (from tensorboard<2.9,>=2.8->tensorflow) (0.4.6)\n",
            "Requirement already satisfied: requests<3,>=2.21.0 in /usr/local/lib/python3.7/dist-packages (from tensorboard<2.9,>=2.8->tensorflow) (2.23.0)\n",
            "Requirement already satisfied: werkzeug>=0.11.15 in /usr/local/lib/python3.7/dist-packages (from tensorboard<2.9,>=2.8->tensorflow) (1.0.1)\n",
            "Requirement already satisfied: markdown>=2.6.8 in /usr/local/lib/python3.7/dist-packages (from tensorboard<2.9,>=2.8->tensorflow) (3.3.7)\n",
            "Requirement already satisfied: tensorboard-plugin-wit>=1.6.0 in /usr/local/lib/python3.7/dist-packages (from tensorboard<2.9,>=2.8->tensorflow) (1.8.1)\n",
            "Requirement already satisfied: google-auth<3,>=1.6.3 in /usr/local/lib/python3.7/dist-packages (from tensorboard<2.9,>=2.8->tensorflow) (1.35.0)\n",
            "Requirement already satisfied: pyasn1-modules>=0.2.1 in /usr/local/lib/python3.7/dist-packages (from google-auth<3,>=1.6.3->tensorboard<2.9,>=2.8->tensorflow) (0.2.8)\n",
            "Requirement already satisfied: rsa<5,>=3.1.4 in /usr/local/lib/python3.7/dist-packages (from google-auth<3,>=1.6.3->tensorboard<2.9,>=2.8->tensorflow) (4.8)\n",
            "Requirement already satisfied: cachetools<5.0,>=2.0.0 in /usr/local/lib/python3.7/dist-packages (from google-auth<3,>=1.6.3->tensorboard<2.9,>=2.8->tensorflow) (4.2.4)\n",
            "Requirement already satisfied: requests-oauthlib>=0.7.0 in /usr/local/lib/python3.7/dist-packages (from google-auth-oauthlib<0.5,>=0.4.1->tensorboard<2.9,>=2.8->tensorflow) (1.3.1)\n",
            "Requirement already satisfied: importlib-metadata>=4.4 in /usr/local/lib/python3.7/dist-packages (from markdown>=2.6.8->tensorboard<2.9,>=2.8->tensorflow) (4.11.3)\n",
            "Requirement already satisfied: zipp>=0.5 in /usr/local/lib/python3.7/dist-packages (from importlib-metadata>=4.4->markdown>=2.6.8->tensorboard<2.9,>=2.8->tensorflow) (3.8.0)\n",
            "Requirement already satisfied: pyasn1<0.5.0,>=0.4.6 in /usr/local/lib/python3.7/dist-packages (from pyasn1-modules>=0.2.1->google-auth<3,>=1.6.3->tensorboard<2.9,>=2.8->tensorflow) (0.4.8)\n",
            "Requirement already satisfied: certifi>=2017.4.17 in /usr/local/lib/python3.7/dist-packages (from requests<3,>=2.21.0->tensorboard<2.9,>=2.8->tensorflow) (2021.10.8)\n",
            "Requirement already satisfied: urllib3!=1.25.0,!=1.25.1,<1.26,>=1.21.1 in /usr/local/lib/python3.7/dist-packages (from requests<3,>=2.21.0->tensorboard<2.9,>=2.8->tensorflow) (1.24.3)\n",
            "Requirement already satisfied: idna<3,>=2.5 in /usr/local/lib/python3.7/dist-packages (from requests<3,>=2.21.0->tensorboard<2.9,>=2.8->tensorflow) (2.10)\n",
            "Requirement already satisfied: chardet<4,>=3.0.2 in /usr/local/lib/python3.7/dist-packages (from requests<3,>=2.21.0->tensorboard<2.9,>=2.8->tensorflow) (3.0.4)\n",
            "Requirement already satisfied: oauthlib>=3.0.0 in /usr/local/lib/python3.7/dist-packages (from requests-oauthlib>=0.7.0->google-auth-oauthlib<0.5,>=0.4.1->tensorboard<2.9,>=2.8->tensorflow) (3.2.0)\n"
          ]
        }
      ],
      "source": [
        "!pip3 install tensorflow"
      ]
    },
    {
      "cell_type": "code",
      "execution_count": 15,
      "metadata": {
        "id": "FccXFzjuzUbx"
      },
      "outputs": [],
      "source": [
        "#One hot encode y values for neural network. \n",
        "from tensorflow.keras.utils import to_categorical\n",
        "y_train_one_hot = to_categorical(y_train)\n",
        "y_test_one_hot = to_categorical(y_test)"
      ]
    },
    {
      "cell_type": "code",
      "execution_count": 16,
      "metadata": {
        "id": "gTPqlIlFzYMs",
        "colab": {
          "base_uri": "https://localhost:8080/"
        },
        "outputId": "a0d9c9eb-6ac4-43ab-f19d-ae9071aea653"
      },
      "outputs": [
        {
          "output_type": "stream",
          "name": "stdout",
          "text": [
            "Downloading data from https://storage.googleapis.com/tensorflow/keras-applications/vgg16/vgg16_weights_tf_dim_ordering_tf_kernels_notop.h5\n",
            "58892288/58889256 [==============================] - 1s 0us/step\n",
            "58900480/58889256 [==============================] - 1s 0us/step\n"
          ]
        }
      ],
      "source": [
        "#Load model wothout classifier/fully connected layers\n",
        "VGG_model = VGG16(weights='imagenet', include_top=False, input_shape=(256, 256, 3))"
      ]
    },
    {
      "cell_type": "code",
      "execution_count": 17,
      "metadata": {
        "colab": {
          "base_uri": "https://localhost:8080/"
        },
        "id": "iRPwOIV_zcoh",
        "outputId": "2981527a-8174-4f5a-96e8-31f3b2957993"
      },
      "outputs": [
        {
          "output_type": "stream",
          "name": "stdout",
          "text": [
            "Model: \"vgg16\"\n",
            "_________________________________________________________________\n",
            " Layer (type)                Output Shape              Param #   \n",
            "=================================================================\n",
            " input_1 (InputLayer)        [(None, 256, 256, 3)]     0         \n",
            "                                                                 \n",
            " block1_conv1 (Conv2D)       (None, 256, 256, 64)      1792      \n",
            "                                                                 \n",
            " block1_conv2 (Conv2D)       (None, 256, 256, 64)      36928     \n",
            "                                                                 \n",
            " block1_pool (MaxPooling2D)  (None, 128, 128, 64)      0         \n",
            "                                                                 \n",
            " block2_conv1 (Conv2D)       (None, 128, 128, 128)     73856     \n",
            "                                                                 \n",
            " block2_conv2 (Conv2D)       (None, 128, 128, 128)     147584    \n",
            "                                                                 \n",
            " block2_pool (MaxPooling2D)  (None, 64, 64, 128)       0         \n",
            "                                                                 \n",
            " block3_conv1 (Conv2D)       (None, 64, 64, 256)       295168    \n",
            "                                                                 \n",
            " block3_conv2 (Conv2D)       (None, 64, 64, 256)       590080    \n",
            "                                                                 \n",
            " block3_conv3 (Conv2D)       (None, 64, 64, 256)       590080    \n",
            "                                                                 \n",
            " block3_pool (MaxPooling2D)  (None, 32, 32, 256)       0         \n",
            "                                                                 \n",
            " block4_conv1 (Conv2D)       (None, 32, 32, 512)       1180160   \n",
            "                                                                 \n",
            " block4_conv2 (Conv2D)       (None, 32, 32, 512)       2359808   \n",
            "                                                                 \n",
            " block4_conv3 (Conv2D)       (None, 32, 32, 512)       2359808   \n",
            "                                                                 \n",
            " block4_pool (MaxPooling2D)  (None, 16, 16, 512)       0         \n",
            "                                                                 \n",
            " block5_conv1 (Conv2D)       (None, 16, 16, 512)       2359808   \n",
            "                                                                 \n",
            " block5_conv2 (Conv2D)       (None, 16, 16, 512)       2359808   \n",
            "                                                                 \n",
            " block5_conv3 (Conv2D)       (None, 16, 16, 512)       2359808   \n",
            "                                                                 \n",
            " block5_pool (MaxPooling2D)  (None, 8, 8, 512)         0         \n",
            "                                                                 \n",
            "=================================================================\n",
            "Total params: 14,714,688\n",
            "Trainable params: 0\n",
            "Non-trainable params: 14,714,688\n",
            "_________________________________________________________________\n"
          ]
        }
      ],
      "source": [
        "#Make loaded layers as non-trainable. This is important as we want to work with pre-trained weights\n",
        "for layer in VGG_model.layers:\n",
        "\tlayer.trainable = False\n",
        "    \n",
        "VGG_model.summary()  #Trainable parameters will be 0"
      ]
    },
    {
      "cell_type": "code",
      "execution_count": 18,
      "metadata": {
        "id": "X7DcyKsBzfHK"
      },
      "outputs": [],
      "source": [
        "#Now, let us use features from convolutional network for RF\n",
        "feature_extractor=VGG_model.predict(x_train)"
      ]
    },
    {
      "cell_type": "code",
      "source": [
        "y_test"
      ],
      "metadata": {
        "colab": {
          "base_uri": "https://localhost:8080/"
        },
        "id": "-QSBPMMMx1jG",
        "outputId": "07450f1b-f1a9-493e-b3ac-98fbee83d1cb"
      },
      "execution_count": 19,
      "outputs": [
        {
          "output_type": "execute_result",
          "data": {
            "text/plain": [
              "array([1, 1, 0, 0, 2, 3, 1, 0, 3, 2, 1, 1, 3, 0, 2, 2, 3, 0, 0, 0, 3, 0,\n",
              "       2, 1, 2, 0, 1, 3, 2, 2, 1, 1, 3, 2, 3, 2, 3, 0, 0, 1, 1, 2, 1, 3,\n",
              "       3, 1, 2, 0, 3, 1, 1, 2, 3, 0, 0, 0, 0, 3, 3, 1, 0, 0, 3, 2, 2, 0,\n",
              "       3, 1, 0, 1, 1, 0, 3, 2, 0, 3, 1, 3, 0, 1, 2, 2, 0, 0, 0, 0, 3, 2,\n",
              "       2, 2, 0, 2, 0, 2, 3, 1, 3, 2, 1, 0, 0, 1, 2, 0, 3, 1, 2, 2, 1, 2,\n",
              "       3, 3, 1, 0, 3, 3, 2, 2, 3, 2, 3, 0, 1, 0, 3, 3, 3, 3, 1, 1, 0, 1,\n",
              "       1, 1, 1, 0, 3, 1, 3, 2, 2, 3, 2, 1, 3, 0, 2, 3, 1, 1, 0, 3, 0, 3,\n",
              "       2, 1, 1, 2, 3, 0, 0, 3, 1, 3, 0, 3, 1, 3, 0, 2, 3, 3, 2, 0, 2, 0,\n",
              "       0, 0, 2, 1])"
            ]
          },
          "metadata": {},
          "execution_count": 19
        }
      ]
    },
    {
      "cell_type": "code",
      "execution_count": 20,
      "metadata": {
        "id": "I2Up7t_izjUJ"
      },
      "outputs": [],
      "source": [
        "features = feature_extractor.reshape(feature_extractor.shape[0], -1)"
      ]
    },
    {
      "cell_type": "code",
      "execution_count": 21,
      "metadata": {
        "colab": {
          "base_uri": "https://localhost:8080/"
        },
        "id": "qCyJhMeuIeJi",
        "outputId": "e969501b-3c47-440d-e695-95b5c533e75a"
      },
      "outputs": [
        {
          "output_type": "stream",
          "name": "stdout",
          "text": [
            "(420, 32768)\n"
          ]
        }
      ],
      "source": [
        "print(features.shape)"
      ]
    },
    {
      "cell_type": "code",
      "execution_count": 22,
      "metadata": {
        "id": "-ntC8JFCzlkj"
      },
      "outputs": [],
      "source": [
        "X_for_RF = features #This is our X input to RF"
      ]
    },
    {
      "cell_type": "code",
      "execution_count": 23,
      "metadata": {
        "id": "8iFLD3xkzof4"
      },
      "outputs": [],
      "source": [
        "#RANDOM FOREST\n",
        "from sklearn.ensemble import RandomForestClassifier\n",
        "RF_model = RandomForestClassifier(n_estimators = 50, random_state = 42)"
      ]
    },
    {
      "cell_type": "code",
      "execution_count": 24,
      "metadata": {
        "colab": {
          "base_uri": "https://localhost:8080/"
        },
        "id": "90Dv2p0gzrnq",
        "outputId": "5fead09f-ee4d-484c-a7ed-0c86dde432c8"
      },
      "outputs": [
        {
          "output_type": "execute_result",
          "data": {
            "text/plain": [
              "RandomForestClassifier(n_estimators=50, random_state=42)"
            ]
          },
          "metadata": {},
          "execution_count": 24
        }
      ],
      "source": [
        "# Train the model on training data\n",
        "RF_model.fit(X_for_RF, y_train_one_hot) #For sklearn no one hot encoding"
      ]
    },
    {
      "cell_type": "code",
      "execution_count": 25,
      "metadata": {
        "colab": {
          "base_uri": "https://localhost:8080/"
        },
        "id": "ZaSMbdnrOEPu",
        "outputId": "852c2bf7-393f-401f-b8a2-4d4445f28612"
      },
      "outputs": [
        {
          "output_type": "stream",
          "name": "stdout",
          "text": [
            "1.0\n"
          ]
        }
      ],
      "source": [
        "print(RF_model.score(X_for_RF, y_train_one_hot))"
      ]
    },
    {
      "cell_type": "code",
      "execution_count": 26,
      "metadata": {
        "id": "xXRnnECizvJ5"
      },
      "outputs": [],
      "source": [
        "#Send test data through same feature extractor process\n",
        "X_test_feature = VGG_model.predict(x_test)\n"
      ]
    },
    {
      "cell_type": "code",
      "execution_count": 27,
      "metadata": {
        "id": "Zj3x6oIuJPxW"
      },
      "outputs": [],
      "source": [
        "X_test_features = X_test_feature.reshape(X_test_feature.shape[0], -1)"
      ]
    },
    {
      "cell_type": "code",
      "execution_count": 28,
      "metadata": {
        "id": "5Fs-En86Liwa",
        "colab": {
          "base_uri": "https://localhost:8080/"
        },
        "outputId": "4dcaa06f-15f7-4072-959b-9924b9fdfe6c"
      },
      "outputs": [
        {
          "output_type": "stream",
          "name": "stdout",
          "text": [
            "(180, 32768)\n"
          ]
        }
      ],
      "source": [
        "print(X_test_features.shape)"
      ]
    },
    {
      "cell_type": "code",
      "execution_count": 29,
      "metadata": {
        "id": "54u0HC8Fzyiu"
      },
      "outputs": [],
      "source": [
        "#Now predict using the trained RF model. \n",
        "prediction_RF = RF_model.predict(X_test_features)\n",
        "#Inverse le transform to get original label back. \n",
        "#y_pred = le.inverse_transform(prediction_RF)"
      ]
    },
    {
      "cell_type": "code",
      "execution_count": 30,
      "metadata": {
        "id": "OBaL5PYMz47n",
        "colab": {
          "base_uri": "https://localhost:8080/"
        },
        "outputId": "e109f00f-5a29-4691-c09b-551868cbecdd"
      },
      "outputs": [
        {
          "output_type": "stream",
          "name": "stdout",
          "text": [
            "Accuracy =  0.9333333333333333\n"
          ]
        }
      ],
      "source": [
        "#Print overall accuracy\n",
        "from sklearn import metrics\n",
        "print (\"Accuracy = \", metrics.accuracy_score(y_test_one_hot, prediction_RF))"
      ]
    },
    {
      "cell_type": "code",
      "execution_count": 31,
      "metadata": {
        "id": "KpVZmCxF1Iln",
        "colab": {
          "base_uri": "https://localhost:8080/"
        },
        "outputId": "985c4f2b-bbed-4d2e-d836-90435989ef1e"
      },
      "outputs": [
        {
          "output_type": "stream",
          "name": "stdout",
          "text": [
            "Requirement already satisfied: xgboost in /usr/local/lib/python3.7/dist-packages (0.90)\n",
            "Requirement already satisfied: scipy in /usr/local/lib/python3.7/dist-packages (from xgboost) (1.4.1)\n",
            "Requirement already satisfied: numpy in /usr/local/lib/python3.7/dist-packages (from xgboost) (1.21.6)\n"
          ]
        }
      ],
      "source": [
        "!pip3 install xgboost"
      ]
    },
    {
      "cell_type": "code",
      "execution_count": 32,
      "metadata": {
        "id": "hFi9LBRT6c_A"
      },
      "outputs": [],
      "source": [
        "import xgboost as xgb"
      ]
    },
    {
      "cell_type": "code",
      "execution_count": 33,
      "metadata": {
        "id": "WWkPN2Gx6hTe"
      },
      "outputs": [],
      "source": [
        "xgb_classifier = xgb.XGBClassifier()"
      ]
    },
    {
      "cell_type": "code",
      "source": [
        "y_train, y_train_one_hot"
      ],
      "metadata": {
        "colab": {
          "base_uri": "https://localhost:8080/"
        },
        "id": "PxJ8GpGDCQsk",
        "outputId": "88a476bd-5884-4977-ac19-a0d1d1c6278f"
      },
      "execution_count": 34,
      "outputs": [
        {
          "output_type": "execute_result",
          "data": {
            "text/plain": [
              "(array([2, 1, 2, 1, 1, 3, 2, 3, 0, 2, 1, 2, 3, 3, 1, 0, 3, 2, 0, 0, 0, 3,\n",
              "        2, 0, 0, 3, 0, 1, 0, 1, 1, 1, 1, 3, 0, 3, 2, 3, 1, 2, 1, 3, 0, 0,\n",
              "        0, 2, 2, 1, 0, 2, 3, 3, 0, 1, 0, 3, 0, 1, 1, 2, 3, 2, 0, 0, 3, 1,\n",
              "        0, 0, 0, 1, 0, 2, 3, 3, 1, 2, 3, 2, 1, 3, 3, 0, 1, 1, 3, 1, 2, 2,\n",
              "        2, 2, 1, 1, 2, 3, 2, 0, 0, 2, 1, 0, 0, 3, 1, 3, 1, 0, 3, 1, 3, 3,\n",
              "        1, 3, 3, 3, 1, 2, 1, 1, 0, 3, 1, 0, 3, 0, 3, 1, 0, 1, 2, 0, 0, 1,\n",
              "        3, 1, 3, 0, 0, 2, 3, 2, 1, 2, 2, 3, 3, 3, 0, 3, 2, 1, 2, 2, 0, 3,\n",
              "        1, 0, 1, 2, 2, 2, 1, 1, 1, 2, 2, 1, 2, 2, 0, 2, 2, 0, 1, 3, 1, 2,\n",
              "        2, 0, 0, 2, 0, 1, 0, 0, 2, 0, 0, 2, 0, 2, 1, 2, 3, 2, 0, 1, 3, 2,\n",
              "        0, 0, 2, 2, 2, 2, 2, 3, 0, 3, 1, 2, 3, 1, 2, 3, 3, 3, 3, 3, 3, 3,\n",
              "        3, 1, 2, 3, 2, 0, 3, 2, 0, 0, 1, 3, 3, 0, 3, 3, 1, 3, 1, 1, 0, 1,\n",
              "        1, 1, 2, 1, 0, 1, 3, 1, 1, 0, 2, 2, 0, 2, 3, 2, 0, 1, 1, 1, 2, 3,\n",
              "        3, 1, 1, 2, 2, 3, 2, 3, 2, 0, 0, 0, 0, 2, 1, 2, 3, 1, 2, 0, 0, 1,\n",
              "        2, 3, 3, 1, 2, 1, 3, 3, 2, 1, 1, 0, 3, 2, 1, 2, 2, 0, 0, 1, 2, 2,\n",
              "        1, 3, 2, 3, 1, 1, 1, 0, 0, 3, 3, 2, 3, 1, 3, 0, 2, 2, 1, 1, 1, 1,\n",
              "        0, 3, 2, 3, 2, 0, 0, 1, 3, 3, 2, 3, 0, 0, 0, 0, 2, 1, 1, 2, 1, 2,\n",
              "        1, 2, 3, 0, 1, 2, 2, 0, 2, 1, 1, 2, 3, 3, 2, 0, 1, 3, 2, 3, 3, 0,\n",
              "        2, 1, 3, 3, 0, 0, 0, 0, 1, 3, 0, 0, 1, 2, 2, 1, 0, 1, 0, 1, 3, 1,\n",
              "        3, 3, 0, 0, 2, 0, 0, 1, 0, 2, 0, 1, 2, 2, 2, 2, 1, 0, 0, 3, 3, 3,\n",
              "        2, 3]), array([[0., 0., 1., 0.],\n",
              "        [0., 1., 0., 0.],\n",
              "        [0., 0., 1., 0.],\n",
              "        ...,\n",
              "        [0., 0., 0., 1.],\n",
              "        [0., 0., 1., 0.],\n",
              "        [0., 0., 0., 1.]], dtype=float32))"
            ]
          },
          "metadata": {},
          "execution_count": 34
        }
      ]
    },
    {
      "cell_type": "code",
      "execution_count": null,
      "metadata": {
        "id": "K0f1A1eD6jwx"
      },
      "outputs": [],
      "source": [
        "xgb_classifier.fit(X_for_RF, y_train)"
      ]
    },
    {
      "cell_type": "code",
      "execution_count": null,
      "metadata": {
        "id": "_nqqukm_6nv2"
      },
      "outputs": [],
      "source": [
        "predictions = xgb_classifier.predict(X_test_features)\n",
        "y_pred = le.inverse_transform(predictions)"
      ]
    },
    {
      "cell_type": "code",
      "execution_count": null,
      "metadata": {
        "id": "lj6-JXcN6w8t",
        "colab": {
          "base_uri": "https://localhost:8080/"
        },
        "outputId": "6e8bb782-8fe5-42f8-8c47-17c50fa0d9a1"
      },
      "outputs": [
        {
          "output_type": "stream",
          "name": "stdout",
          "text": [
            "Accuracy of Model:: 0.9777777777777777\n"
          ]
        }
      ],
      "source": [
        "print(\"Accuracy of Model::\",metrics.accuracy_score(test_labels, y_pred))"
      ]
    },
    {
      "cell_type": "code",
      "execution_count": null,
      "metadata": {
        "id": "LYaQLqsyEoqp"
      },
      "outputs": [],
      "source": [
        "from sklearn.svm import SVC"
      ]
    },
    {
      "cell_type": "code",
      "execution_count": null,
      "metadata": {
        "id": "US9UenbbEz04"
      },
      "outputs": [],
      "source": [
        "svc = SVC(C=1.0, random_state=1, kernel='linear')"
      ]
    },
    {
      "cell_type": "code",
      "execution_count": null,
      "metadata": {
        "id": "cgbJA3SAFItO",
        "colab": {
          "base_uri": "https://localhost:8080/"
        },
        "outputId": "75fb42fa-76de-4d22-8507-37c4aa035260"
      },
      "outputs": [
        {
          "output_type": "execute_result",
          "data": {
            "text/plain": [
              "SVC(kernel='linear', random_state=1)"
            ]
          },
          "metadata": {},
          "execution_count": 37
        }
      ],
      "source": [
        "svc.fit(X_for_RF, y_train)"
      ]
    },
    {
      "cell_type": "code",
      "source": [
        "#X_for_RF, y_train_one_hot"
      ],
      "metadata": {
        "id": "lgyyY6DlEfrw"
      },
      "execution_count": null,
      "outputs": []
    },
    {
      "cell_type": "code",
      "execution_count": null,
      "metadata": {
        "id": "aeyTqUPdFbKq"
      },
      "outputs": [],
      "source": [
        "predictions = svc.predict(X_test_features)\n",
        "y_pred = le.inverse_transform(predictions)"
      ]
    },
    {
      "cell_type": "code",
      "execution_count": null,
      "metadata": {
        "id": "-1l0gkD_F3zQ",
        "colab": {
          "base_uri": "https://localhost:8080/"
        },
        "outputId": "880e58f2-5d36-4c94-99bc-9fb4fef2abf6"
      },
      "outputs": [
        {
          "output_type": "stream",
          "name": "stdout",
          "text": [
            "Accuracy of Model:: 1.0\n"
          ]
        }
      ],
      "source": [
        "print(\"Accuracy of Model::\",metrics.accuracy_score(test_labels, y_pred))"
      ]
    },
    {
      "cell_type": "code",
      "execution_count": null,
      "metadata": {
        "id": "Y2gVwiBwZXKk"
      },
      "outputs": [],
      "source": [
        "from sklearn.ensemble import VotingClassifier"
      ]
    },
    {
      "cell_type": "code",
      "source": [
        "#estimator = [('rf', RF_model), ('xgb', xgb_classifier), ('svc', svc)]\n",
        "  \n",
        "# Voting Classifier with hard voting\n",
        "vot_hard = VotingClassifier(estimators = [('rf', RF_model), ('xgb', xgb_classifier), ('svc', svc)], voting ='hard')\n",
        "vot_hard.fit(X_for_RF, y_train)\n",
        "#y_pred = vot_hard.predict(X_test_features)\n",
        "  \n",
        "# using accuracy_score metric to predict accuracy\n",
        "#score = metrics.accuracy_score(test_labels, y_pred)\n",
        "#print(\"Hard Voting Score % d\" % score)"
      ],
      "metadata": {
        "colab": {
          "base_uri": "https://localhost:8080/"
        },
        "id": "pvfF1m3aFXzV",
        "outputId": "b684f063-69a0-40f8-99c2-3deec1fd133b"
      },
      "execution_count": null,
      "outputs": [
        {
          "output_type": "execute_result",
          "data": {
            "text/plain": [
              "VotingClassifier(estimators=[('rf',\n",
              "                              RandomForestClassifier(n_estimators=50,\n",
              "                                                     random_state=42)),\n",
              "                             ('xgb', XGBClassifier(objective='multi:softprob')),\n",
              "                             ('svc', SVC(kernel='linear', random_state=1))])"
            ]
          },
          "metadata": {},
          "execution_count": 51
        }
      ]
    },
    {
      "cell_type": "code",
      "source": [
        "y_pred = vot_hard.predict(X_test_features)"
      ],
      "metadata": {
        "id": "qDVl42l-GX0a"
      },
      "execution_count": null,
      "outputs": []
    },
    {
      "cell_type": "code",
      "source": [
        "y_pred"
      ],
      "metadata": {
        "colab": {
          "base_uri": "https://localhost:8080/"
        },
        "id": "bL1UzKKUHmhP",
        "outputId": "d80d69a3-29f5-44bf-98c9-10a9f40d62d2"
      },
      "execution_count": null,
      "outputs": [
        {
          "output_type": "execute_result",
          "data": {
            "text/plain": [
              "array([1, 1, 0, 0, 2, 3, 1, 0, 3, 2, 1, 1, 3, 0, 2, 2, 3, 0, 0, 0, 3, 0,\n",
              "       2, 1, 2, 0, 1, 3, 2, 2, 1, 1, 3, 2, 3, 2, 3, 0, 0, 1, 1, 2, 1, 3,\n",
              "       3, 1, 2, 0, 3, 1, 1, 2, 3, 0, 0, 0, 0, 3, 3, 1, 0, 0, 3, 2, 2, 0,\n",
              "       3, 1, 0, 1, 1, 0, 3, 2, 0, 3, 1, 3, 0, 1, 2, 2, 0, 0, 0, 0, 3, 2,\n",
              "       2, 2, 0, 2, 0, 2, 3, 1, 3, 2, 1, 0, 0, 1, 2, 0, 3, 1, 2, 2, 1, 2,\n",
              "       3, 3, 1, 0, 3, 3, 2, 2, 3, 2, 3, 0, 1, 0, 3, 3, 3, 3, 1, 1, 0, 1,\n",
              "       1, 1, 1, 0, 3, 1, 3, 2, 2, 3, 2, 1, 3, 0, 2, 3, 1, 1, 0, 3, 0, 3,\n",
              "       2, 1, 1, 2, 3, 0, 0, 3, 1, 3, 0, 3, 1, 3, 0, 2, 3, 3, 3, 0, 2, 0,\n",
              "       0, 0, 2, 1])"
            ]
          },
          "metadata": {},
          "execution_count": 43
        }
      ]
    },
    {
      "cell_type": "code",
      "source": [
        "test_labels"
      ],
      "metadata": {
        "colab": {
          "base_uri": "https://localhost:8080/"
        },
        "id": "ADWnz9IaxmFM",
        "outputId": "b01b6201-95b8-4d68-b297-16122c5163ab"
      },
      "execution_count": null,
      "outputs": [
        {
          "output_type": "execute_result",
          "data": {
            "text/plain": [
              "array(['CMA_mel_spectrogram', 'CMA_mel_spectrogram',\n",
              "       'CFS_mel_spectrogram', 'CFS_mel_spectrogram',\n",
              "       'EFS_mel_spectrogram', 'EMH_mel_spectrogram',\n",
              "       'CMA_mel_spectrogram', 'CFS_mel_spectrogram',\n",
              "       'EMH_mel_spectrogram', 'EFS_mel_spectrogram',\n",
              "       'CMA_mel_spectrogram', 'CMA_mel_spectrogram',\n",
              "       'EMH_mel_spectrogram', 'CFS_mel_spectrogram',\n",
              "       'EFS_mel_spectrogram', 'EFS_mel_spectrogram',\n",
              "       'EMH_mel_spectrogram', 'CFS_mel_spectrogram',\n",
              "       'CFS_mel_spectrogram', 'CFS_mel_spectrogram',\n",
              "       'EMH_mel_spectrogram', 'CFS_mel_spectrogram',\n",
              "       'EFS_mel_spectrogram', 'CMA_mel_spectrogram',\n",
              "       'EFS_mel_spectrogram', 'CFS_mel_spectrogram',\n",
              "       'CMA_mel_spectrogram', 'EMH_mel_spectrogram',\n",
              "       'EFS_mel_spectrogram', 'EFS_mel_spectrogram',\n",
              "       'CMA_mel_spectrogram', 'CMA_mel_spectrogram',\n",
              "       'EMH_mel_spectrogram', 'EFS_mel_spectrogram',\n",
              "       'EMH_mel_spectrogram', 'EFS_mel_spectrogram',\n",
              "       'EMH_mel_spectrogram', 'CFS_mel_spectrogram',\n",
              "       'CFS_mel_spectrogram', 'CMA_mel_spectrogram',\n",
              "       'CMA_mel_spectrogram', 'EFS_mel_spectrogram',\n",
              "       'CMA_mel_spectrogram', 'EMH_mel_spectrogram',\n",
              "       'EMH_mel_spectrogram', 'CMA_mel_spectrogram',\n",
              "       'EFS_mel_spectrogram', 'CFS_mel_spectrogram',\n",
              "       'EMH_mel_spectrogram', 'CMA_mel_spectrogram',\n",
              "       'CMA_mel_spectrogram', 'EFS_mel_spectrogram',\n",
              "       'EMH_mel_spectrogram', 'CFS_mel_spectrogram',\n",
              "       'CFS_mel_spectrogram', 'CFS_mel_spectrogram',\n",
              "       'CFS_mel_spectrogram', 'EMH_mel_spectrogram',\n",
              "       'EMH_mel_spectrogram', 'CMA_mel_spectrogram',\n",
              "       'CFS_mel_spectrogram', 'CFS_mel_spectrogram',\n",
              "       'EMH_mel_spectrogram', 'EFS_mel_spectrogram',\n",
              "       'EFS_mel_spectrogram', 'CFS_mel_spectrogram',\n",
              "       'EMH_mel_spectrogram', 'CMA_mel_spectrogram',\n",
              "       'CFS_mel_spectrogram', 'CMA_mel_spectrogram',\n",
              "       'CMA_mel_spectrogram', 'CFS_mel_spectrogram',\n",
              "       'EMH_mel_spectrogram', 'EFS_mel_spectrogram',\n",
              "       'CFS_mel_spectrogram', 'EMH_mel_spectrogram',\n",
              "       'CMA_mel_spectrogram', 'EMH_mel_spectrogram',\n",
              "       'CFS_mel_spectrogram', 'CMA_mel_spectrogram',\n",
              "       'EFS_mel_spectrogram', 'EFS_mel_spectrogram',\n",
              "       'CFS_mel_spectrogram', 'CFS_mel_spectrogram',\n",
              "       'CFS_mel_spectrogram', 'CFS_mel_spectrogram',\n",
              "       'EMH_mel_spectrogram', 'EFS_mel_spectrogram',\n",
              "       'EFS_mel_spectrogram', 'EFS_mel_spectrogram',\n",
              "       'CFS_mel_spectrogram', 'EFS_mel_spectrogram',\n",
              "       'CFS_mel_spectrogram', 'EFS_mel_spectrogram',\n",
              "       'EMH_mel_spectrogram', 'CMA_mel_spectrogram',\n",
              "       'EMH_mel_spectrogram', 'EFS_mel_spectrogram',\n",
              "       'CMA_mel_spectrogram', 'CFS_mel_spectrogram',\n",
              "       'CFS_mel_spectrogram', 'CMA_mel_spectrogram',\n",
              "       'EFS_mel_spectrogram', 'CFS_mel_spectrogram',\n",
              "       'EMH_mel_spectrogram', 'CMA_mel_spectrogram',\n",
              "       'EFS_mel_spectrogram', 'EFS_mel_spectrogram',\n",
              "       'CMA_mel_spectrogram', 'EFS_mel_spectrogram',\n",
              "       'EMH_mel_spectrogram', 'EMH_mel_spectrogram',\n",
              "       'CMA_mel_spectrogram', 'CFS_mel_spectrogram',\n",
              "       'EMH_mel_spectrogram', 'EMH_mel_spectrogram',\n",
              "       'EFS_mel_spectrogram', 'EFS_mel_spectrogram',\n",
              "       'EMH_mel_spectrogram', 'EFS_mel_spectrogram',\n",
              "       'EMH_mel_spectrogram', 'CFS_mel_spectrogram',\n",
              "       'CMA_mel_spectrogram', 'CFS_mel_spectrogram',\n",
              "       'EMH_mel_spectrogram', 'EMH_mel_spectrogram',\n",
              "       'EMH_mel_spectrogram', 'EMH_mel_spectrogram',\n",
              "       'CMA_mel_spectrogram', 'CMA_mel_spectrogram',\n",
              "       'CFS_mel_spectrogram', 'CMA_mel_spectrogram',\n",
              "       'CMA_mel_spectrogram', 'CMA_mel_spectrogram',\n",
              "       'CMA_mel_spectrogram', 'CFS_mel_spectrogram',\n",
              "       'EMH_mel_spectrogram', 'CMA_mel_spectrogram',\n",
              "       'EMH_mel_spectrogram', 'EFS_mel_spectrogram',\n",
              "       'EFS_mel_spectrogram', 'EMH_mel_spectrogram',\n",
              "       'EFS_mel_spectrogram', 'CMA_mel_spectrogram',\n",
              "       'EMH_mel_spectrogram', 'CFS_mel_spectrogram',\n",
              "       'EFS_mel_spectrogram', 'EMH_mel_spectrogram',\n",
              "       'CMA_mel_spectrogram', 'CMA_mel_spectrogram',\n",
              "       'CFS_mel_spectrogram', 'EMH_mel_spectrogram',\n",
              "       'CFS_mel_spectrogram', 'EMH_mel_spectrogram',\n",
              "       'EFS_mel_spectrogram', 'CMA_mel_spectrogram',\n",
              "       'CMA_mel_spectrogram', 'EFS_mel_spectrogram',\n",
              "       'EMH_mel_spectrogram', 'CFS_mel_spectrogram',\n",
              "       'CFS_mel_spectrogram', 'EMH_mel_spectrogram',\n",
              "       'CMA_mel_spectrogram', 'EMH_mel_spectrogram',\n",
              "       'CFS_mel_spectrogram', 'EMH_mel_spectrogram',\n",
              "       'CMA_mel_spectrogram', 'EMH_mel_spectrogram',\n",
              "       'CFS_mel_spectrogram', 'EFS_mel_spectrogram',\n",
              "       'EMH_mel_spectrogram', 'EMH_mel_spectrogram',\n",
              "       'EFS_mel_spectrogram', 'CFS_mel_spectrogram',\n",
              "       'EFS_mel_spectrogram', 'CFS_mel_spectrogram',\n",
              "       'CFS_mel_spectrogram', 'CFS_mel_spectrogram',\n",
              "       'EFS_mel_spectrogram', 'CMA_mel_spectrogram'], dtype='<U19')"
            ]
          },
          "metadata": {},
          "execution_count": 54
        }
      ]
    },
    {
      "cell_type": "code",
      "source": [
        "score = metrics.accuracy_score(y_test, y_pred)\n",
        "print(\"Hard Voting Score %d\" %score)"
      ],
      "metadata": {
        "colab": {
          "base_uri": "https://localhost:8080/"
        },
        "id": "jBOD1KINGe9R",
        "outputId": "f466a2a2-25ec-4ef3-ff45-874f09c8d67e"
      },
      "execution_count": null,
      "outputs": [
        {
          "output_type": "stream",
          "name": "stdout",
          "text": [
            "Hard Voting Score 0\n"
          ]
        }
      ]
    },
    {
      "cell_type": "code",
      "source": [
        "print(\"Hard Voting Score {}\".format(score))"
      ],
      "metadata": {
        "colab": {
          "base_uri": "https://localhost:8080/"
        },
        "id": "RfXPc125ynHz",
        "outputId": "f5b63370-3d29-4387-cba8-07ceb5a47855"
      },
      "execution_count": null,
      "outputs": [
        {
          "output_type": "stream",
          "name": "stdout",
          "text": [
            "Hard Voting Score 0.9944444444444445\n"
          ]
        }
      ]
    },
    {
      "cell_type": "code",
      "source": [
        "vot_hard.classes_"
      ],
      "metadata": {
        "colab": {
          "base_uri": "https://localhost:8080/"
        },
        "id": "uh_LWtB5z3o3",
        "outputId": "e34e4abf-4dd0-4b1c-d1d6-16f629ade7af"
      },
      "execution_count": null,
      "outputs": [
        {
          "output_type": "execute_result",
          "data": {
            "text/plain": [
              "array([0, 1, 2, 3])"
            ]
          },
          "metadata": {},
          "execution_count": 67
        }
      ]
    },
    {
      "cell_type": "code",
      "source": [
        "import matplotlib.pyplot as plt\n",
        "from sklearn.datasets import make_classification\n",
        "from sklearn.metrics import confusion_matrix, ConfusionMatrixDisplay\n",
        "\n",
        "cm = confusion_matrix(y_test, y_pred, labels=vot_hard.classes_)\n",
        "disp = ConfusionMatrixDisplay(confusion_matrix=cm, display_labels=vot_hard.classes_)\n",
        "disp.plot()\n",
        "plt.show()"
      ],
      "metadata": {
        "colab": {
          "base_uri": "https://localhost:8080/",
          "height": 279
        },
        "id": "yWifydl5z3rY",
        "outputId": "e379dd3e-068f-40bd-f310-cbe0150da17f"
      },
      "execution_count": null,
      "outputs": [
        {
          "output_type": "display_data",
          "data": {
            "text/plain": [
              "<Figure size 432x288 with 2 Axes>"
            ],
            "image/png": "[encoded data removed]"
          },
          "metadata": {
            "needs_background": "light"
          }
        }
      ]
    },
    {
      "cell_type": "code",
      "source": [
        ""
      ],
      "metadata": {
        "id": "zo07JyEjz3ty"
      },
      "execution_count": null,
      "outputs": []
    },
    {
      "cell_type": "code",
      "source": [
        ""
      ],
      "metadata": {
        "id": "wTwxM65az3wE"
      },
      "execution_count": null,
      "outputs": []
    },
    {
      "cell_type": "code",
      "source": [
        ""
      ],
      "metadata": {
        "id": "o9cPogxJz3yg"
      },
      "execution_count": null,
      "outputs": []
    },
    {
      "cell_type": "code",
      "source": [
        ""
      ],
      "metadata": {
        "id": "YM_danNmz30k"
      },
      "execution_count": null,
      "outputs": []
    },
    {
      "cell_type": "code",
      "source": [
        ""
      ],
      "metadata": {
        "id": "NZv-y6S4z32s"
      },
      "execution_count": null,
      "outputs": []
    },
    {
      "cell_type": "code",
      "source": [
        "a=1\n",
        "print(\"Hard Voting Score %d\" %a)"
      ],
      "metadata": {
        "colab": {
          "base_uri": "https://localhost:8080/"
        },
        "id": "8VR-29dRyetr",
        "outputId": "a8ab75ef-fe05-4198-f589-0a69ac0df7ac"
      },
      "execution_count": null,
      "outputs": [
        {
          "output_type": "stream",
          "name": "stdout",
          "text": [
            "Hard Voting Score 1\n"
          ]
        }
      ]
    },
    {
      "cell_type": "code",
      "source": [
        "a=.1\n",
        "print(\"Hard Voting Score %d\" %a)"
      ],
      "metadata": {
        "colab": {
          "base_uri": "https://localhost:8080/"
        },
        "id": "1zO9CL1PywFf",
        "outputId": "238f53a6-c0c0-4e7d-9ec4-37b71a3e5fdf"
      },
      "execution_count": null,
      "outputs": [
        {
          "output_type": "stream",
          "name": "stdout",
          "text": [
            "Hard Voting Score 0\n"
          ]
        }
      ]
    },
    {
      "cell_type": "code",
      "source": [
        ""
      ],
      "metadata": {
        "id": "UzXWmM8dx54B"
      },
      "execution_count": null,
      "outputs": []
    },
    {
      "cell_type": "code",
      "source": [
        "import numpy as np\n",
        "from sklearn.linear_model import LogisticRegression\n",
        "from sklearn.naive_bayes import GaussianNB\n",
        "from sklearn.ensemble import RandomForestClassifier, VotingClassifier\n",
        "clf1 = LogisticRegression(multi_class='multinomial', random_state=1)\n",
        "clf2 = RandomForestClassifier(n_estimators=50, random_state=1)\n",
        "clf3 = GaussianNB()\n",
        "X = np.array([[-1, -1], [-2, -1], [-3, -2], [1, 1], [2, 1], [3, 2]])\n",
        "y = np.array([1, 1, 1, 2, 2, 2])\n",
        "eclf1 = VotingClassifier(estimators=[('lr', clf1), ('rf', clf2), ('gnb', clf3)], voting='hard')\n",
        "eclf1 = eclf1.fit(X, y)\n",
        "print(eclf1.predict(X))\n",
        "#[1 1 1 2 2 2]\n",
        "np.array_equal(eclf1.named_estimators_.lr.predict(X), eclf1.named_estimators_['lr'].predict(X))\n",
        "True\n",
        "eclf2 = VotingClassifier(estimators=[('lr', clf1), ('rf', clf2), ('gnb', clf3)],voting='soft')\n",
        "eclf2 = eclf2.fit(X, y)\n",
        "print(eclf2.predict(X))\n",
        "#[1 1 1 2 2 2]"
      ],
      "metadata": {
        "colab": {
          "base_uri": "https://localhost:8080/"
        },
        "id": "B6bZ48_JwEVM",
        "outputId": "685d0edd-fe05-44e7-d260-124d3fb2461b"
      },
      "execution_count": null,
      "outputs": [
        {
          "output_type": "stream",
          "name": "stdout",
          "text": [
            "[1 1 1 2 2 2]\n",
            "[1 1 1 2 2 2]\n"
          ]
        }
      ]
    },
    {
      "cell_type": "code",
      "source": [
        ""
      ],
      "metadata": {
        "id": "c0dk8HegwEXq"
      },
      "execution_count": null,
      "outputs": []
    },
    {
      "cell_type": "code",
      "source": [
        ""
      ],
      "metadata": {
        "id": "rrMtLJImwEZn"
      },
      "execution_count": null,
      "outputs": []
    },
    {
      "cell_type": "code",
      "source": [
        ""
      ],
      "metadata": {
        "id": "ij7WQuGEwEby"
      },
      "execution_count": null,
      "outputs": []
    },
    {
      "cell_type": "code",
      "source": [
        ""
      ],
      "metadata": {
        "id": "p4pcNpOKwEeY"
      },
      "execution_count": null,
      "outputs": []
    },
    {
      "cell_type": "code",
      "source": [
        ""
      ],
      "metadata": {
        "id": "3EhLDjOiwEgq"
      },
      "execution_count": null,
      "outputs": []
    },
    {
      "cell_type": "code",
      "source": [
        ""
      ],
      "metadata": {
        "id": "LT7D5Yx-wEjR"
      },
      "execution_count": null,
      "outputs": []
    },
    {
      "cell_type": "code",
      "source": [
        "estimator = [('rf', RF_model), ('xgb', xgb_classifier), ('svc', svc)]\n",
        "  \n",
        "# Voting Classifier with hard voting\n",
        "vot_hard = VotingClassifier(estimators = estimator, voting ='hard')\n",
        "vot_hard.fit(X_for_RF, y_train)\n",
        "y_pred = vot_hard.predict(X_test_features)\n",
        "  \n",
        "# using accuracy_score metric to predict accuracy\n",
        "score = metrics.accuracy_score(test_labels, y_pred)\n",
        "print(\"Hard Voting Score % d\" % score)"
      ],
      "metadata": {
        "colab": {
          "base_uri": "https://localhost:8080/"
        },
        "id": "y9u7eoW9yxit",
        "outputId": "e05d15e8-49dd-4918-a8c1-559189f3c275"
      },
      "execution_count": null,
      "outputs": [
        {
          "output_type": "stream",
          "name": "stdout",
          "text": [
            "Hard Voting Score  0\n"
          ]
        },
        {
          "output_type": "stream",
          "name": "stderr",
          "text": [
            "/usr/local/lib/python3.7/dist-packages/sklearn/metrics/_classification.py:217: FutureWarning: elementwise comparison failed; returning scalar instead, but in the future will perform elementwise comparison\n",
            "  score = y_true == y_pred\n"
          ]
        }
      ]
    },
    {
      "cell_type": "code",
      "source": [
        "def get_voting():\n",
        "\t# define the base models\n",
        "\tmodels = list()\n",
        "\tmodels.append('rf', RF_model)\n",
        "\tmodels.append('xgb', xgb_classifier)\n",
        "\tmodels.append('svc',svc)\n",
        "\n",
        "\t# define the voting ensemble\n",
        "\tensemble = VotingClassifier(estimators=models, voting='hard')\n",
        "\treturn ensemble"
      ],
      "metadata": {
        "id": "kIOxYy6AJBpe"
      },
      "execution_count": null,
      "outputs": []
    },
    {
      "cell_type": "code",
      "source": [
        "# get a list of models to evaluate\n",
        "def get_models():\n",
        "\tmodels = dict()\n",
        "\t#models['rf'] = KNeighborsClassifier(n_neighbors=1)\n",
        "\t#models['knn3'] = KNeighborsClassifier(n_neighbors=3)\n",
        "\t#models['knn5'] = KNeighborsClassifier(n_neighbors=5)\n",
        "\n",
        "\tmodels['hard_voting'] = get_voting()\n",
        "\treturn models"
      ],
      "metadata": {
        "id": "WobgI7B5Jb9j"
      },
      "execution_count": null,
      "outputs": []
    },
    {
      "cell_type": "code",
      "source": [
        "\n",
        " \n",
        "# evaluate a give model using cross-validation\n",
        "def evaluate_model(model, X, y):\n",
        "\tcv = RepeatedStratifiedKFold(n_splits=10, n_repeats=3, random_state=1)\n",
        "\tscores = cross_val_score(model, X, y, scoring='accuracy', cv=cv, n_jobs=-1, error_score='raise')\n",
        "\treturn scores\n",
        " \n",
        "# define dataset\n",
        "X, y = get_dataset()\n",
        "# get the models to evaluate\n",
        "models = get_models()\n",
        "# evaluate the models and store results\n",
        "results, names = list(), list()\n",
        "for name, model in models.items():\n",
        "\tscores = evaluate_model(model, X, y)\n",
        "\tresults.append(scores)\n",
        "\tnames.append(name)\n",
        "\tprint('>%s %.3f (%.3f)' % (name, mean(scores), std(scores)))"
      ],
      "metadata": {
        "id": "CZxcft1PEnKl"
      },
      "execution_count": null,
      "outputs": []
    }
  ],
  "metadata": {
    "accelerator": "TPU",
    "colab": {
      "collapsed_sections": [],
      "name": "Speaker Identification Using Ensemble Learning Approach Considering CNN As Feature Extractor.ipynb",
      "provenance": []
    },
    "kernelspec": {
      "display_name": "Python 3",
      "name": "python3"
    },
    "language_info": {
      "name": "python"
    }
  },
  "nbformat": 4,
  "nbformat_minor": 0
}